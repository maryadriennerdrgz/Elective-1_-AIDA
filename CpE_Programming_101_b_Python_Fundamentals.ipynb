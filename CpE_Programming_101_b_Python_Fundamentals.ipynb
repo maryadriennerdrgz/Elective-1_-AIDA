{
  "nbformat": 4,
  "nbformat_minor": 0,
  "metadata": {
    "colab": {
      "name": "CpE_Programming_101_b_Python_Fundamentals.ipynb",
      "provenance": [],
      "collapsed_sections": [],
      "include_colab_link": true
    },
    "kernelspec": {
      "display_name": "Python 3",
      "language": "python",
      "name": "python3"
    },
    "language_info": {
      "codemirror_mode": {
        "name": "ipython",
        "version": 3
      },
      "file_extension": ".py",
      "mimetype": "text/x-python",
      "name": "python",
      "nbconvert_exporter": "python",
      "pygments_lexer": "ipython3",
      "version": "3.9.1"
    }
  },
  "cells": [
    {
      "cell_type": "markdown",
      "metadata": {
        "id": "view-in-github",
        "colab_type": "text"
      },
      "source": [
        "<a href=\"https://colab.research.google.com/github/maryadriennerdrgz/Elective-1_-AIDA/blob/main/CpE_Programming_101_b_Python_Fundamentals.ipynb\" target=\"_parent\"><img src=\"https://colab.research.google.com/assets/colab-badge.svg\" alt=\"Open In Colab\"/></a>"
      ]
    },
    {
      "cell_type": "markdown",
      "metadata": {
        "id": "6vK_K2jzwcVz"
      },
      "source": [
        "# Welcome to Python Fundamentals\n",
        "*by Lee Andrei D. Alvarez, Gian Karl J. Esguerra, Mary Adrienne V. Rodriguez, Geraldine Ann G. Ruiz*\n",
        "\n",
        "In this module, we are going to establish or review our skills in Python programming. In this notebook we are going to cover:\n",
        "* Variables and Data Types \n",
        "* Operations\n",
        "* Input and Output Operations\n",
        "* Logic Control\n",
        "* Iterables\n",
        "* Functions"
      ]
    },
    {
      "cell_type": "markdown",
      "metadata": {
        "id": "JaKF05XfwjFI"
      },
      "source": [
        "## Variable and Data Types"
      ]
    },
    {
      "cell_type": "code",
      "metadata": {
        "id": "63QpBUJnwmDY"
      },
      "source": [
        "a, b, c, x = 1, 'Hello', 0.5, 8\n",
        "\n",
        "string = \"This variable type is\"\n",
        "print(string, type(a))\n",
        "print(string, type(b))\n",
        "print(string, type(c))\n",
        "\n",
        "x = float(x)\n",
        "print(string, type(x))"
      ],
      "execution_count": null,
      "outputs": []
    },
    {
      "cell_type": "markdown",
      "metadata": {
        "id": "o6eWj460wi2P"
      },
      "source": [
        "## Operations"
      ]
    },
    {
      "cell_type": "markdown",
      "metadata": {
        "id": "cCb0Pn-l2Dc4"
      },
      "source": [
        "### Arithmetic"
      ]
    },
    {
      "cell_type": "code",
      "metadata": {
        "colab": {
          "base_uri": "https://localhost:8080/"
        },
        "id": "NWrdlqyf2JDG",
        "outputId": "ec4c97e9-4f96-4bcd-b2a3-c9077d2e26ea"
      },
      "source": [
        "A,B,C,D = 3, -1, 2.3, 5\n",
        "\n",
        "S = A+B #Addition\n",
        "Y = B-D #Subtraction\n",
        "P = A*D #Multiplication\n",
        "Q = C/A #Division\n",
        "F = A//B #Floor Division\n",
        "H = A**10 #Exponentiation\n",
        "mod = 13%D #Modulo\n",
        "\n",
        "print('Addition: ', S, '\\nSubtraction: ', Y, '\\nMultiplication: ', \n",
        "      P, '\\nDivision: ', Q, '\\nFloor Division: ', F, '\\nExponentiation: ', H, '\\nModulo: ', mod)"
      ],
      "execution_count": null,
      "outputs": [
        {
          "output_type": "stream",
          "text": [
            "Addition:  2 \n",
            "Subtraction:  -6 \n",
            "Multiplication:  15 \n",
            "Division:  0.7666666666666666 \n",
            "Floor Division:  -3 \n",
            "Exponentiation:  59049 \n",
            "Modulo:  3\n"
          ],
          "name": "stdout"
        }
      ]
    },
    {
      "cell_type": "markdown",
      "metadata": {
        "id": "lYG1n69v2hKh"
      },
      "source": [
        "### Assignment Operations"
      ]
    },
    {
      "cell_type": "code",
      "metadata": {
        "colab": {
          "base_uri": "https://localhost:8080/"
        },
        "id": "1T77im2M2Xsu",
        "outputId": "1aabdf53-28e2-4151-9149-e2c01e07e93e"
      },
      "source": [
        "G, H, J, K, a, d = 0, 100, 2, 2, 100, 50\n",
        "G += a\n",
        "H -= d\n",
        "J *= 2\n",
        "K **= 2\n",
        "\n",
        "print('Addition: ', G, '\\nSubtraction: ', H, '\\nMultiplication: ', \n",
        "      J, '\\nExponentiation: ', K)"
      ],
      "execution_count": null,
      "outputs": [
        {
          "output_type": "stream",
          "text": [
            "Addition:  100 \n",
            "Subtraction:  50 \n",
            "Multiplication:  4 \n",
            "Exponentiation:  4\n"
          ],
          "name": "stdout"
        }
      ]
    },
    {
      "cell_type": "markdown",
      "metadata": {
        "id": "4CqUTltm2vlM"
      },
      "source": [
        "### Comparators"
      ]
    },
    {
      "cell_type": "code",
      "metadata": {
        "colab": {
          "base_uri": "https://localhost:8080/"
        },
        "id": "3-cyjRmT2uTk",
        "outputId": "acf53a94-d0d0-4258-f786-78b077131e14"
      },
      "source": [
        "val1, val2, val3 = 100, 200, 1000\n",
        "\n",
        "print(\n",
        "    'Value 1:', val1,\n",
        "    '\\nValue 2:', val2,\n",
        "    '\\nValue 3:', val3,\n",
        ")\n",
        "\n",
        "s1 = val1 >= val2\n",
        "s2 = val2 <= val3\n",
        "s3 = val3 >= val1\n",
        "\n",
        "print(\n",
        "    '\\nIs value 1 greater than or equal to value 2?', s1,\n",
        "    '\\nIs value 2 less than or equal to value 3?', s2,\n",
        "    '\\nIs value 3 greater than or equal to value 1?', s3,\n",
        ")"
      ],
      "execution_count": null,
      "outputs": [
        {
          "output_type": "stream",
          "text": [
            "Value 1: 100 \n",
            "Value 2: 200 \n",
            "Value 3: 1000\n",
            "\n",
            "Is value 1 greater than or equal to value 2? False \n",
            "Is value 2 less than or equal to value 3? True \n",
            "Is value 3 greater than or equal to value 1? True\n"
          ],
          "name": "stdout"
        }
      ]
    },
    {
      "cell_type": "markdown",
      "metadata": {
        "id": "_mtBPtUe37Ui"
      },
      "source": [
        "### Logical"
      ]
    },
    {
      "cell_type": "code",
      "metadata": {
        "colab": {
          "base_uri": "https://localhost:8080/"
        },
        "id": "xIXgFis638LB",
        "outputId": "f9769348-e940-492e-ee14-4c97df314856"
      },
      "source": [
        "print('1. What if p and q is both True?')\n",
        "print('2. What if p is True and q is False?')\n",
        "print('3. What if p is False and q is True?')\n",
        "print('4. What if p and q is both False?')\n",
        "ans = input('\\nChoice: ')\n",
        "\n",
        "if (ans == '1'):\n",
        "  p, q = True, True\n",
        "\n",
        "elif (ans == '2'):\n",
        "  p, q = True, False\n",
        "\n",
        "elif (ans == '3'):\n",
        "  p, q = False, True\n",
        "\n",
        "elif (ans == '1'):\n",
        "  p, q = False, False\n",
        "\n",
        "else:\n",
        "  print('\\nNot in the choices. Try again.')\n",
        "\n",
        "conj = p and q\n",
        "disj = p or q\n",
        "nand = not(p and q)\n",
        "xor = (not p and q) or (p and not q)\n",
        "\n",
        "print('\\nConjuction:',conj)\n",
        "print('Disjunction:',disj)\n",
        "print('Negated Conjunction:',nand)\n",
        "print('Exclusive Or:',xor)"
      ],
      "execution_count": null,
      "outputs": [
        {
          "output_type": "stream",
          "text": [
            "1. What if p and q is both True?\n",
            "2. What if p is True and q is False?\n",
            "3. What if p is False and q is True?\n",
            "4. What if p and q is both False?\n",
            "\n",
            "Choice: 3\n",
            "\n",
            "Conjuction: False\n",
            "Disjunction: True\n",
            "Negated Conjunction: True\n",
            "Exclusive Or: True\n"
          ],
          "name": "stdout"
        }
      ]
    },
    {
      "cell_type": "markdown",
      "metadata": {
        "id": "9TjSWDsx4qzH"
      },
      "source": [
        "### I/O"
      ]
    },
    {
      "cell_type": "code",
      "metadata": {
        "colab": {
          "base_uri": "https://localhost:8080/"
        },
        "id": "GAcZgdNE44h0",
        "outputId": "c5cfa502-af75-4f8c-ecfa-ea933c877663"
      },
      "source": [
        "name = input('Hello, what is your name? ')\n",
        "print('So, your name is', name, '\\nYour name has', len(name), 'characters and', set(name), 'letters')"
      ],
      "execution_count": null,
      "outputs": [
        {
          "output_type": "stream",
          "text": [
            "Hello, what is your name? Gigi\n",
            "So, your name is Gigi \n",
            "Your name has 4 characters and {'G', 'i', 'g'} letters\n"
          ],
          "name": "stdout"
        }
      ]
    },
    {
      "cell_type": "markdown",
      "metadata": {
        "id": "T9GSOcxV5QRv"
      },
      "source": [
        "# Looping Statements"
      ]
    },
    {
      "cell_type": "markdown",
      "metadata": {
        "id": "ouUwTu875S7s"
      },
      "source": [
        "## While"
      ]
    },
    {
      "cell_type": "code",
      "metadata": {
        "colab": {
          "base_uri": "https://localhost:8080/"
        },
        "id": "_OG37PDJ5KpN",
        "outputId": "81bbbcef-4847-4ae1-e8a5-3e5e2c59604b"
      },
      "source": [
        "## while loops\n",
        "g, k = 50, 100\n",
        "while(g<=k):\n",
        "    print(f\"{g}\\t|\\t{k}\")\n",
        "    g+=5"
      ],
      "execution_count": null,
      "outputs": [
        {
          "output_type": "stream",
          "text": [
            "50\t|\t100\n",
            "55\t|\t100\n",
            "60\t|\t100\n",
            "65\t|\t100\n",
            "70\t|\t100\n",
            "75\t|\t100\n",
            "80\t|\t100\n",
            "85\t|\t100\n",
            "90\t|\t100\n",
            "95\t|\t100\n",
            "100\t|\t100\n"
          ],
          "name": "stdout"
        }
      ]
    },
    {
      "cell_type": "markdown",
      "metadata": {
        "id": "niK2BHW_5VZb"
      },
      "source": [
        "## For"
      ]
    },
    {
      "cell_type": "code",
      "metadata": {
        "colab": {
          "base_uri": "https://localhost:8080/"
        },
        "id": "MP9enttR5Zs9",
        "outputId": "794633e9-5c7f-4040-aa4c-6b2cc4efa9ea"
      },
      "source": [
        "colors = [\"blue\", \"red\",\"yellow\",\"green\",\"violet\",\"orange\"]\n",
        "for color in colors:\n",
        "       print(color)\n",
        "       if color == \"violet\":\n",
        "         break"
      ],
      "execution_count": null,
      "outputs": [
        {
          "output_type": "stream",
          "text": [
            "blue\n",
            "red\n",
            "yellow\n",
            "green\n",
            "violet\n"
          ],
          "name": "stdout"
        }
      ]
    },
    {
      "cell_type": "code",
      "metadata": {
        "colab": {
          "base_uri": "https://localhost:8080/"
        },
        "id": "l1VlyAAL5dbz",
        "outputId": "3b98b20c-3dd4-4088-be84-c653e4634684"
      },
      "source": [
        "films = [\"Action\", \"Horror\", \"Thriller\", \"Comedy\", \"Drama\", \"Romance\"]\n",
        "print('Genres:\\n')\n",
        "for types in films:\n",
        "    print(types)"
      ],
      "execution_count": null,
      "outputs": [
        {
          "output_type": "stream",
          "text": [
            "Genres:\n",
            "\n",
            "Action\n",
            "Horror\n",
            "Thriller\n",
            "Comedy\n",
            "Drama\n",
            "Romance\n"
          ],
          "name": "stdout"
        }
      ]
    },
    {
      "cell_type": "markdown",
      "metadata": {
        "id": "s8HmRUg65iRJ"
      },
      "source": [
        "# Flow Control"
      ]
    },
    {
      "cell_type": "markdown",
      "metadata": {
        "id": "iQS8P3uO5leK"
      },
      "source": [
        "## Condition Statements"
      ]
    },
    {
      "cell_type": "code",
      "metadata": {
        "colab": {
          "base_uri": "https://localhost:8080/"
        },
        "id": "CD0bnliZ5nsS",
        "outputId": "ea28904f-269b-4b49-ceb2-c94e0e4c6810"
      },
      "source": [
        "x = int(input(\"Enter Number Between 1 to 10: \"))\n",
        "if x < 0: \n",
        "  print('Invalid Choice')\n",
        "elif x == 1:\n",
        "  print('Beautiful')\n",
        "elif x == 2:\n",
        "  print('Optimistic')\n",
        "elif x == 3: \n",
        "  print('Responsible')\n",
        "elif x == 4: \n",
        "  print('Fun')\n",
        "elif x == 5:\n",
        "  print('Strong')\n",
        "elif x == 6: \n",
        "  print('Lovely')\n",
        "elif x == 7:\n",
        "  print('Cute')\n",
        "elif x == 8: \n",
        "  print('Adorable')\n",
        "elif x == 9: \n",
        "  print('Stylish')\n",
        "elif x == 10: \n",
        "  print('Sweet')\n",
        "else: \n",
        "  print('Exceeded from numbers 1 to 10')"
      ],
      "execution_count": null,
      "outputs": [
        {
          "output_type": "stream",
          "text": [
            "Enter Number Between 1 to 10: 1\n",
            "Beautiful\n"
          ],
          "name": "stdout"
        }
      ]
    },
    {
      "cell_type": "markdown",
      "metadata": {
        "id": "e_xrcitP5umR"
      },
      "source": [
        "# Functions"
      ]
    },
    {
      "cell_type": "code",
      "metadata": {
        "colab": {
          "base_uri": "https://localhost:8080/"
        },
        "id": "4nC9UU81jMpn",
        "outputId": "05b3a6ae-062c-4593-c0df-cbd3cc1afa01"
      },
      "source": [
        "from IPython.display import clear_output\n",
        "stuff = []\n",
        "\n",
        "def clear():\n",
        "  clear_output(wait=True)\n",
        "\n",
        "def main():\n",
        "  clear()\n",
        "  y = 1\n",
        "  while y == 1:\n",
        "    print('\\nList of users:', stuff)\n",
        "    type = input('\\nOptions: \\n\\n1. Add User\\n2. Delete User \\n3. Quit\\n\\nAnswer: ')\n",
        "    if type == '1':\n",
        "      addthis()\n",
        "      y = 0\n",
        "    elif type == '2':\n",
        "      deletethis()\n",
        "      y = 0\n",
        "    elif type == '3':\n",
        "      print('\\nThank you for using the app! Goodbye!')\n",
        "      print('\\nList of users:', stuff)\n",
        "      y = 0\n",
        "    else:\n",
        "      print('\\nNot in the options. Please try again')\n",
        "\n",
        "  \n",
        "def addthis():\n",
        "  clear()\n",
        "  x, y = 1, 0\n",
        "  while x == 1:\n",
        "    inp = input('\\nType the name of the user would you like to add (type \\'q\\' to quit, \\'b\\' to go back):  ')\n",
        "\n",
        "    if inp == 'q':\n",
        "      print('\\nThanks for using the application! \\nList of users: ', stuff)\n",
        "      x = 0\n",
        "\n",
        "    elif inp == 'b':\n",
        "      main()\n",
        "      x = 0\n",
        "\n",
        "    else:\n",
        "      stuff.append(inp)\n",
        "      print(stuff)\n",
        "\n",
        "\n",
        "def deletethis():\n",
        "  clear()\n",
        "  z = 1\n",
        "  while z == 1:\n",
        "    num = 0\n",
        "    print('\\nWhich id would you like to delete?\\n')\n",
        "\n",
        "    for user in stuff:\n",
        "      num = num+1\n",
        "      print(num,':', ' ', user, sep='')\n",
        "    wdelete = int(input('\\nDelete: '))\n",
        "    wdelete =+ 1\n",
        "\n",
        "    if wdelete <= len(stuff):\n",
        "      stuff.pop(wdelete)\n",
        "      main()\n",
        "      z = 0\n",
        "\n",
        "    else:\n",
        "      print('\\nNot in the choices. Try again.')\n",
        "\n",
        "main()"
      ],
      "execution_count": null,
      "outputs": [
        {
          "output_type": "stream",
          "text": [
            "\n",
            "List of users: ['asdasdad', 'sadasdad', 'sdasdasdasd']\n",
            "\n",
            "Options: \n",
            "\n",
            "1. Add User\n",
            "2. Delete User \n",
            "3. Quit\n",
            "\n",
            "Answer: 3\n",
            "\n",
            "Thank you for using the app! Goodbye!\n",
            "\n",
            "List of users: ['asdasdad', 'sadasdad', 'sdasdasdasd']\n"
          ],
          "name": "stdout"
        }
      ]
    },
    {
      "cell_type": "markdown",
      "metadata": {
        "id": "qlbT6bui5515"
      },
      "source": [
        "### Lambda Functions"
      ]
    },
    {
      "cell_type": "code",
      "metadata": {
        "colab": {
          "base_uri": "https://localhost:8080/"
        },
        "id": "pwDb00uT56ED",
        "outputId": "0dacb9d7-decb-4ca9-f431-d9dd4b343ce6"
      },
      "source": [
        "pg = float(input('Prelim grade: '))\n",
        "mg = float(input('Midterm grade: '))\n",
        "fg = float(input('Final grade: '))\n",
        "prelim = lambda PG: PG * pg\n",
        "midterm = lambda MG: MG * mg\n",
        "final = lambda FG: FG * fg\n",
        "sem_g = prelim(0.30) + midterm(0.30) + final(0.40)\n",
        "\n",
        "sem_gr = \"{:.2f}\".format(sem_g)\n",
        "print('\\nYour semester grade is:', sem_gr)"
      ],
      "execution_count": null,
      "outputs": [
        {
          "output_type": "stream",
          "text": [
            "Prelim grade: 98\n",
            "Midterm grade: 60\n",
            "Final grade: 70\n",
            "\n",
            "Your semester grade is: 75.40\n"
          ],
          "name": "stdout"
        }
      ]
    },
    {
      "cell_type": "code",
      "metadata": {
        "id": "u6MxSoEC6Kmx"
      },
      "source": [
        "'''\n",
        "Create a grade calculator that computes for the semestral grade of a course.\n",
        "Students could type their names, the name of the course, then their prelim,\n",
        "midterm, and final grade.\n",
        "The program should print the semestral grade in 2 decimal points and should\n",
        "display the following emojis depending on the situation:\n",
        "happy - when grade is greater than 70.00\n",
        "laughing - when grade is exactly 70.00\n",
        "sad - when grade is below 70.00\n",
        "'''\n",
        "happy, lol, sad = \"\\U0001F600\",\"\\U0001F923\",\"\\U0001F619\""
      ],
      "execution_count": null,
      "outputs": []
    },
    {
      "cell_type": "code",
      "metadata": {
        "colab": {
          "base_uri": "https://localhost:8080/"
        },
        "id": "JzF6UGMY-9b-",
        "outputId": "29e9e510-7934-441d-b0aa-3a486c09a5d9"
      },
      "source": [
        "w_pg, w_mg, w_fg = 0.3, 0.3, 0.4\n",
        "\n",
        "name = input(\"Enter your name: \")\n",
        "course = input(\"Enter your course: \")\n",
        "\n",
        "if name.isalpha() and course.isalpha():\n",
        "\n",
        "  prelim = float(input(\"\\nEnter Prelim Grade: \"))\n",
        "  midterm = float(input(\"Enter Midterm Grade: \"))\n",
        "  finals = float(input(\"Enter Final Grade: \"))\n",
        "\n",
        "  sem_grade = prelim*w_pg + midterm*w_mg + finals*w_fg\n",
        "  sem_gradee = \"{:.2f}\".format(sem_grade)\n",
        "\n",
        "  happy, lol, sad = \"\\U0001F600\",\"\\U0001F923\",\"\\U0001F619\"\n",
        "\n",
        "  if(sem_grade > 70):\n",
        "      print(\"\\nHello {}, from {}, your semestral grade is {} {}\".format(name,course,sem_gradee,happy))\n",
        "  elif(sem_grade == 70):\n",
        "      print(\"\\nHello {}, from {}, your semestral grade is {} {}\".format(name,course,sem_gradee,lol))\n",
        "  elif(sem_grade < 70):\n",
        "      print(\"\\nHello {}, from {}, your semestral grade is {} {}\".format(name,course,sem_gradee,sad))\n",
        "  else:\n",
        "      print(\"ERROR\")\n",
        "\n",
        "else:\n",
        "    print(\"\\nOnly letters are allowed!\")"
      ],
      "execution_count": null,
      "outputs": [
        {
          "output_type": "stream",
          "text": [
            "Enter your name: Testing\n",
            "Enter your course: BsCpe\n",
            "\n",
            "Enter Prelim Grade: 80\n",
            "Enter Midterm Grade: 80\n",
            "Enter Final Grade: 80\n",
            "\n",
            "Hello Testing, from BsCpe, your semestral grade is 80.00 😀\n"
          ],
          "name": "stdout"
        }
      ]
    }
  ]
}